{
 "cells": [
  {
   "cell_type": "code",
   "execution_count": 1,
   "metadata": {},
   "outputs": [],
   "source": [
    "import os\n",
    "import sys\n",
    "from scapy.all import *"
   ]
  },
  {
   "cell_type": "code",
   "execution_count": 2,
   "metadata": {},
   "outputs": [],
   "source": [
    "flags = {}"
   ]
  },
  {
   "cell_type": "code",
   "execution_count": null,
   "metadata": {},
   "outputs": [],
   "source": [
    "def describe(file):\n",
    "    global count\n",
    "    global indexer\n",
    "    scap = rdpcap(file)\n",
    "    for packet in range(0,len(scap)):\n",
    "        count += 1\n",
    "        pkt = scap[packet]\n",
    "        flag = pkt['TCP'].flags\n",
    "        try:\n",
    "            stats['flags'][pkt['TCP'].flags][1] += 1\n",
    "        except:\n",
    "            stats['flags'][pkt['TCP'].flags] = [indexer,1]\n",
    "            indexer += 1\n",
    "        if packet == 0:\n",
    "            stream = np.array([0,pkt['IP'].frag, pkt['IP'].ttl, pkt['IP'].hlen, pkt['IP'].len,stats['flags'][flag][0], pkt['TCP'].dataofs, pkt['TCP'].window,0,0)\n",
    "        else:\n",
    "            lst_pkt = scap[packet-1]\n",
    "            stream = np.vstack(stream,[pkt.time - lst_pkt.time,pkt['IP'].frag, pkt['IP'].ttl, pkt['IP'].hlen, pkt['IP'].len,stats['flags'][flag][0], pkt['TCP'].dataofs, pkt['TCP'].window,pkt['TCP'].seq - lst_pkt['TCP'].seq,pkt['TCP'].ack - lst_pkt['TCP'].ack])\n",
    "        \n",
    "    return stream"
   ]
  }
 ],
 "metadata": {
  "kernelspec": {
   "display_name": "Python 3",
   "language": "python",
   "name": "python3"
  },
  "language_info": {
   "codemirror_mode": {
    "name": "ipython",
    "version": 3
   },
   "file_extension": ".py",
   "mimetype": "text/x-python",
   "name": "python",
   "nbconvert_exporter": "python",
   "pygments_lexer": "ipython3",
   "version": "3.7.1"
  }
 },
 "nbformat": 4,
 "nbformat_minor": 2
}
