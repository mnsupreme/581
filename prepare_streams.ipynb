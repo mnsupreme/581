{
 "cells": [
  {
   "cell_type": "code",
   "execution_count": 1,
   "metadata": {},
   "outputs": [],
   "source": [
    "import os\n",
    "import sys\n",
    "import h5py\n",
    "import pandas as pd\n",
    "import dask.dataframe as dd\n",
    "import gc\n",
    "import pprint\n",
    "from scapy.all import *\n",
    "flags = {\n",
    "        'R': 0,\n",
    "        'A': 1,\n",
    "        'S': 2,\n",
    "        'DF':3,\n",
    "        'FA':4,\n",
    "        'SA':5,\n",
    "        'RA':6,\n",
    "        'PA':7,\n",
    "        'FPA':8\n",
    "    }"
   ]
  },
  {
   "cell_type": "code",
   "execution_count": 2,
   "metadata": {},
   "outputs": [],
   "source": [
    "def process_panda(file,counter):\n",
    "    global flags\n",
    "    data = {\n",
    "        'time_delta': [0],\n",
    "        'ttl':[],\n",
    "        'len':[],\n",
    "        'dataofs':[],\n",
    "        'window':[],\n",
    "        'seq_delta':[0],\n",
    "        'ack_delta':[0],\n",
    "        'flags':[]\n",
    "    }\n",
    "    scap = sniff(offline=file,filter='tcp and ip')\n",
    "    for packet in range(0,len(scap)):\n",
    "        pkt = scap[packet]\n",
    "        flag = flags[str(pkt['TCP'].flags)]\n",
    "        data['ttl'].append(pkt['IP'].ttl)\n",
    "        data['len'].append(pkt['IP'].len)\n",
    "        data['dataofs'].append(pkt['TCP'].dataofs)\n",
    "        data['window'].append(pkt['TCP'].window)\n",
    "        data['flags'].append(flag)\n",
    "        data['stream'] = counter\n",
    "        if packet != 0:\n",
    "            lst_pkt = scap[packet-1]\n",
    "            data['time_delta'].append(pkt.time - lst_pkt.time)\n",
    "            data['seq_delta'].append(pkt['TCP'].seq - lst_pkt['TCP'].seq)\n",
    "            data['ack_delta'].append(pkt['TCP'].ack - lst_pkt['TCP'].ack)\n",
    "#     print('seq_delta :',data['seq_delta'])\n",
    "#     print('ack_delta :',data['ack_delta'])\n",
    "            \n",
    "    panda = pd.DataFrame(data=data)\n",
    "    panda['ttl']=panda['ttl'].astype('float16')\n",
    "    panda['flags']=panda['flags'].astype('float16')\n",
    "    panda['dataofs']=panda['dataofs'].astype('float16')\n",
    "    panda['len']=panda['len'].astype('float16')\n",
    "    panda['window']=panda['window'].astype('float32')\n",
    "    panda['seq_delta']=panda['seq_delta'].astype('float32')\n",
    "    panda['ack_delta']=panda['ack_delta'].astype('float32')\n",
    "    \n",
    "    gc.collect()\n",
    "    return panda"
   ]
  },
  {
   "cell_type": "code",
   "execution_count": 3,
   "metadata": {},
   "outputs": [
    {
     "name": "stdout",
     "output_type": "stream",
     "text": [
      "4667\n"
     ]
    }
   ],
   "source": [
    "directory = 'dev/streams/'\n",
    "files = os.listdir(directory)\n",
    "df = dd.from_pandas(process_panda(directory+files[0],0), npartitions=6)\n",
    "df.set_index('stream')\n",
    "files.remove(files[0])\n",
    "counter=1\n",
    "for file in files:\n",
    "    df =  dd.concat([df,process_panda(directory+file,counter)])\n",
    "    counter+=1\n",
    "    gc.collect()\n",
    "df.repartition(npartitions=counter)\n",
    "print(len(df))\n"
   ]
  },
  {
   "cell_type": "code",
   "execution_count": 4,
   "metadata": {},
   "outputs": [
    {
     "name": "stdout",
     "output_type": "stream",
     "text": [
      "(None, None, None, None, None, None, None, None, None, None, None, None, None, None, None, None, None, None, None, None, None, None, None, None, None, None, None, None, None, None, None, None, None, None, None, None, None, None, None, None, None, None, None, None, None, None, None, None, None, None, None, None, None, None, None, None, None, None, None, None, None, None, None, None, None, None, None, None, None, None, None, None, None, None, None, None, None, None, None, None, None, None, None, None, None, None, None, None, None, None, None, None, None, None, None, None, None, None, None, None, None, None, None, None, None, None, None, None, None, None, None, None, None, None, None, None, None, None, None, None, None, None, None, None, None, None, None, None, None, None, None, None, None, None, None, None, None, None, None, None, None, None, None, None, None, None, None, None, None, None, None, None, None, None, None, None, None, None, None, None, None, None, None, None, None, None, None, None, None, None, None, None, None, None, None, None, None, None, None, None, None, None, None, None, None, None, None, None, None, None, None, None, None, None, None, None, None, None, None, None, None, None, None, None, None, None, None, None, None, None, None, None, None, None, None, None, None, None, None, None, None, None, None, None, None, None, None, None, None, None, None, None, None, None, None, None, None, None, None, None, None, None, None, None, None, None, None, None, None, None, None, None, None, None, None, None, None, None, None, None, None, None, None, None, None, None, None, None, None, None, None, None, None, None, None, None, None, None, None, None, None, None, None, None, None, None, None, None, None, None, None, None, None, None, None, None, None, None, None, None, None, None, None, None, None, None, None, None, None, None, None, None, None, None, None, None, None, None, None, None, None, None, None, None, None, None, None, None, None, None, None, None, None, None, None, None, None, None, None, None, None, None, None, None, None, None, None, None, None, None, None, None, None, None, None, None, None, None, None, None, None, None, None, None, None, None, None, None, None, None, None, None, None, None, None, None, None, None, None, None, None, None, None, None, None, None, None, None, None, None, None, None, None, None, None, None, None, None, None, None, None, None, None, None, None, None, None, None, None, None, None, None, None, None, None, None, None, None, None, None, None, None, None, None, None, None, None, None, None, None, None, None, None, None, None, None, None, None, None, None, None, None, None, None, None, None, None, None, None, None, None, None, None, None, None, None, None, None, None, None, None, None, None, None, None, None, None, None, None, None, None, None, None, None, None, None, None, None, None, None, None, None, None, None, None, None, None, None, None, None, None, None, None, None, None, None, None, None, None, None, None, None, None, None, None, None, None, None, None, None, None, None, None, None, None, None, None, None, None, None, None, None, None, None, None, None, None, None, None, None, None, None, None, None, None, None, None, None, None, None, None, None, None, None, None, None, None, None, None, None, None, None, None, None, None, None, None, None, None, None, None, None, None, None, None, None, None, None, None, None, None, None, None, None, None, None, None, None, None, None, None, None, None, None, None, None, None, None, None, None, None, None, None, None, None, None, None, None, None, None, None, None, None, None, None, None, None, None, None, None, None, None, None, None, None, None, None, None, None, None, None, None, None, None, None, None, None, None, None, None, None, None, None, None, None, None, None, None, None, None, None, None, None, None, None, None, None, None, None, None, None, None, None, None, None, None, None, None, None, None, None, None, None, None, None, None, None, None, None, None, None, None, None, None, None, None, None, None, None, None, None, None, None, None, None, None, None, None, None, None, None, None, None, None, None, None, None, None, None, None, None, None, None, None, None, None, None, None, None, None, None, None, None, None, None, None, None, None, None, None, None, None, None, None, None, None, None, None, None, None, None, None, None, None, None, None, None, None, None, None, None, None, None, None, None, None, None, None, None, None, None, None, None, None, None, None, None, None, None, None, None, None, None, None, None, None, None, None, None, None, None, None, None, None, None, None, None, None, None, None, None, None, None, None, None, None, None, None, None, None, None, None, None, None, None, None, None, None, None, None, None, None, None, None, None, None)\n"
     ]
    }
   ],
   "source": [
    "print(df.divisions)"
   ]
  },
  {
   "cell_type": "code",
   "execution_count": null,
   "metadata": {},
   "outputs": [],
   "source": []
  }
 ],
 "metadata": {
  "kernelspec": {
   "display_name": "Python 3",
   "language": "python",
   "name": "python3"
  },
  "language_info": {
   "codemirror_mode": {
    "name": "ipython",
    "version": 3
   },
   "file_extension": ".py",
   "mimetype": "text/x-python",
   "name": "python",
   "nbconvert_exporter": "python",
   "pygments_lexer": "ipython3",
   "version": "3.7.3"
  }
 },
 "nbformat": 4,
 "nbformat_minor": 2
}
